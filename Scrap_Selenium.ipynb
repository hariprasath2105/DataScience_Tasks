{
 "cells": [
  {
   "cell_type": "code",
   "execution_count": 1,
   "id": "ebd2e83a",
   "metadata": {},
   "outputs": [],
   "source": [
    "from selenium import webdriver\n",
    "from selenium.webdriver.common.by import By\n",
    "from selenium.webdriver.chrome.service import Service\n",
    "from selenium.webdriver.common.keys import Keys\n",
    "from time import sleep\n",
    "import pandas as pd"
   ]
  },
  {
   "cell_type": "code",
   "execution_count": 2,
   "id": "80c5bea6",
   "metadata": {},
   "outputs": [],
   "source": [
    "service = Service(\"C:\\\\Program Files\\\\chromedriver-win64\\\\chromedriver.exe\")\n",
    "driver = webdriver.Chrome(service=service)\n",
    "driver.get(\"https://www.amazon.in/\")"
   ]
  },
  {
   "cell_type": "code",
   "execution_count": 3,
   "id": "be69637d",
   "metadata": {},
   "outputs": [],
   "source": [
    "search = driver.find_element(By.ID, \"twotabsearchtextbox\")\n",
    "search.send_keys(\"Mobiles\",Keys.ENTER)"
   ]
  },
  {
   "cell_type": "code",
   "execution_count": 5,
   "id": "3a459386",
   "metadata": {},
   "outputs": [
    {
     "name": "stdout",
     "output_type": "stream",
     "text": [
      "Scraping page 1...\n",
      "Scraping page 2...\n",
      "No more pages or next button not found.\n"
     ]
    }
   ],
   "source": [
    "product_names = []\n",
    "product_prices = []\n",
    "\n",
    "for i in range(2): \n",
    "    print(f\"Scraping page {i+1}...\")\n",
    "\n",
    "    products = driver.find_elements(By.XPATH, \"//div[@data-component-type='s-search-result']\")\n",
    "\n",
    "    for product in products:\n",
    "        try:\n",
    "            name = product.find_elements(By.XPATH, './/a/h2/span').text\n",
    "        except:\n",
    "            name = \"N/A\"\n",
    "        product_names.append(name)\n",
    "\n",
    "        try:\n",
    "            price = product.find_element(By.XPATH, \".//span[@class='a-price-whole']\").text\n",
    "        except:\n",
    "            price = \"N/A\"\n",
    "        product_prices.append(price)\n",
    "\n",
    "    try:\n",
    "        next_button = driver.find_element(By.XPATH, \"//a[contains(@class, 's-pagination-next')]\")\n",
    "        next_button.click()\n",
    "        sleep(2)\n",
    "    except:\n",
    "        print(\"No more pages or next button not found.\")\n",
    "        break"
   ]
  },
  {
   "cell_type": "code",
   "execution_count": 6,
   "id": "f2b0e1d3",
   "metadata": {},
   "outputs": [
    {
     "name": "stdout",
     "output_type": "stream",
     "text": [
      "['N/A', 'N/A', 'N/A', 'N/A', 'N/A', 'N/A', 'N/A', 'N/A', 'N/A', 'N/A']\n",
      "['30,999', '53,999', '6,249', '8,799', '24,748', '8,498', '10,998', '1,29,999', '17,998', '27,999']\n"
     ]
    }
   ],
   "source": [
    "print(product_names[:10])\n",
    "print(product_prices[:10])"
   ]
  },
  {
   "cell_type": "code",
   "execution_count": 7,
   "id": "8c5bd49e",
   "metadata": {},
   "outputs": [],
   "source": [
    "df = pd.DataFrame({\n",
    "    \"Product Name\": product_names,\n",
    "    \"Price\": product_prices,\n",
    "})\n",
    "df.to_excel(\"amazon_mobile_data.xlsx\", index=False)"
   ]
  },
  {
   "cell_type": "code",
   "execution_count": 8,
   "id": "9a5d9293",
   "metadata": {},
   "outputs": [],
   "source": [
    "driver.quit()"
   ]
  },
  {
   "cell_type": "code",
   "execution_count": null,
   "id": "824e8be2",
   "metadata": {},
   "outputs": [],
   "source": []
  }
 ],
 "metadata": {
  "kernelspec": {
   "display_name": "Python 3",
   "language": "python",
   "name": "python3"
  },
  "language_info": {
   "codemirror_mode": {
    "name": "ipython",
    "version": 3
   },
   "file_extension": ".py",
   "mimetype": "text/x-python",
   "name": "python",
   "nbconvert_exporter": "python",
   "pygments_lexer": "ipython3",
   "version": "3.11.0"
  }
 },
 "nbformat": 4,
 "nbformat_minor": 5
}
